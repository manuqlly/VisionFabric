{
  "cells": [
    {
      "cell_type": "code",
      "execution_count": null,
      "metadata": {
        "id": "D5Lj30UWhyZ1"
      },
      "outputs": [],
      "source": [
        "!git clone https://github.com/AlexeyAB/darknet\n",
        "%cd darknet\n",
        "!sed -i 's/GPU=0/GPU=1/' Makefile\n",
        "!sed -i 's/CUDNN=0/CUDNN=1/' Makefile\n",
        "!sed -i 's/CUDNN_HALF=0/CUDNN_HALF=1/' Makefile\n",
        "!sed -i 's/OPENCV=0/OPENCV=1/' Makefile\n",
        "!make\n"
      ]
    },
    {
      "cell_type": "code",
      "execution_count": null,
      "metadata": {
        "id": "6mJ9i4VBh6tG"
      },
      "outputs": [],
      "source": [
        "# prompt: unzip this rar file /content/obj.rar to /content/darknet if you find another obj folder named just merge them\n",
        "\n",
        "!sudo apt install unrar\n",
        "!unrar x /content/obj.rar /content/darknet/obj"
      ]
    },
    {
      "cell_type": "code",
      "source": [
        "import os\n",
        "import random\n",
        "\n",
        "all_images = [f for f in os.listdir(\"obj\") if f.endswith(\".jpg\")]\n",
        "random.shuffle(all_images)\n",
        "\n",
        "split_idx = int(0.9 * len(all_images))\n",
        "train_images = all_images[:split_idx]\n",
        "valid_images = all_images[split_idx:]\n",
        "\n",
        "with open(\"data/train.txt\", \"w\") as f:\n",
        "    for img in train_images:\n",
        "        f.write(f\"obj/{img}\\n\")\n",
        "\n",
        "with open(\"data/valid.txt\", \"w\") as f:\n",
        "    for img in valid_images:\n",
        "        f.write(f\"obj/{img}\\n\")\n"
      ],
      "metadata": {
        "id": "ZOox3oUMjNVD"
      },
      "execution_count": null,
      "outputs": []
    },
    {
      "cell_type": "code",
      "source": [
        "!wget https://github.com/AlexeyAB/darknet/releases/download/darknet_yolo_v4_pre/yolov4-tiny.conv.29\n"
      ],
      "metadata": {
        "id": "e7YAN61rlmV6"
      },
      "execution_count": null,
      "outputs": []
    },
    {
      "cell_type": "code",
      "source": [
        "!./darknet detector train data/obj.data cfg/towel-tiny.cfg yolov4-tiny.conv.29 -map -dont_show\n"
      ],
      "metadata": {
        "id": "gvbrcgjh1GBz"
      },
      "execution_count": null,
      "outputs": []
    },
    {
      "cell_type": "code",
      "source": [
        "!./darknet detector test data/obj.data cfg/towel-tiny.cfg backup/towel-tiny_best.weights obj/frame_001974.jpg -thresh 0.3\n"
      ],
      "metadata": {
        "id": "RZ6xjOLJ9yRH"
      },
      "execution_count": null,
      "outputs": []
    },
    {
      "cell_type": "code",
      "source": [
        "from IPython.display import Image\n",
        "Image(filename='/content/darknet/predictions.jpg')\n"
      ],
      "metadata": {
        "id": "txI3wy-80HpF"
      },
      "execution_count": null,
      "outputs": []
    },
    {
      "cell_type": "code",
      "source": [],
      "metadata": {
        "id": "iGnFiZkL2Azl"
      },
      "execution_count": null,
      "outputs": []
    }
  ],
  "metadata": {
    "accelerator": "GPU",
    "colab": {
      "gpuType": "T4",
      "provenance": []
    },
    "kernelspec": {
      "display_name": "Python 3",
      "name": "python3"
    },
    "language_info": {
      "name": "python"
    }
  },
  "nbformat": 4,
  "nbformat_minor": 0
}